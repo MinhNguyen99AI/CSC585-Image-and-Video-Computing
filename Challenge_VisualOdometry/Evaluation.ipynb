{
 "cells": [
  {
   "cell_type": "code",
   "execution_count": null,
   "id": "fbe96483-0a8c-4cf3-a5e3-aeacbfea0ad8",
   "metadata": {},
   "outputs": [],
   "source": [
    "import numpy as np\n",
    "from matplotlib import pyplot as plt"
   ]
  },
  {
   "cell_type": "code",
   "execution_count": null,
   "id": "badf6d4b-ea0d-4809-ae64-5e4574221b33",
   "metadata": {},
   "outputs": [],
   "source": [
    "# read and and preprocess the groundtruth\n",
    "\n",
    "with open('./groundtruth_train.txt', 'r') as file:\n",
    "    \n",
    "    data = file.read()\n",
    "    data = data.split('\\n')\n",
    "    data = [np.array(list(map(float, i.split()[1:4]))) for i in data]\n",
    "    data = data[:-1]\n",
    "    data = np.vstack(data)"
   ]
  },
  {
   "cell_type": "code",
   "execution_count": null,
   "id": "7db67eca-b3ec-4445-9025-740a62d55582",
   "metadata": {},
   "outputs": [],
   "source": [
    "def TUM_EVAL(points, targets):\n",
    "    '''\n",
    "        Estimates least squares parameters for 3D transformation between two sets of points\n",
    "        \n",
    "        Ref:https://graphics.stanford.edu/courses/cs164-09-spring/Handouts/paper_Umeyama.pdf\n",
    "        Equations 40, 41, 42 \n",
    "    '''\n",
    "    \n",
    "    \n",
    "    \n",
    "    # print(points.shape, targets.shape)\n",
    "    assert points.shape == targets.shape\n",
    "    \n",
    "    pmean, tmean = np.mean(points, axis=0), np.mean(targets, axis=0)\n",
    "    # tvar = np.mean(np.linalg.norm(targets - tmean, axis=1) ** 2)\n",
    "    \n",
    "    H = (points-pmean).T@(targets-tmean)\n",
    "    U, S, V = np.linalg.svd(H)\n",
    "    V= V.T\n",
    "    S = np.diag(S)\n",
    "    \n",
    "    R = V@U.T\n",
    "    if np.linalg.det(R)<0:\n",
    "        V[:, 2] = -1*V[:, 2]\n",
    "        R = V@U.T\n",
    "    \n",
    "    mR_cA = -R@pmean.T\n",
    "    \n",
    "    A = points @R.T + mR_cA\n",
    "    B = targets-tmean\n",
    "    \n",
    "    saa = 0\n",
    "    sab = 0\n",
    "    for i in range(A.shape[0]):\n",
    "        saa += A[i, :]@A[i, :].T\n",
    "        sab += A[i, :]@B[i, :].T\n",
    "   \n",
    "    scale = sab/saa\n",
    "    t = scale*mR_cA + tmean.T\n",
    "    # rmse = np.linalg.norm(scale*A-B)/np.sqrt(A.shape[0])\n",
    "    \n",
    "    return  scale, R, t"
   ]
  },
  {
   "cell_type": "code",
   "execution_count": null,
   "id": "c90f9d86-b5af-4891-94fd-9dd659e9cc0e",
   "metadata": {},
   "outputs": [],
   "source": [
    "path = np.load('./predictions.npy') # Predictions "
   ]
  },
  {
   "cell_type": "markdown",
   "id": "8238add1-1035-4d7f-b127-ff23c4f825fd",
   "metadata": {},
   "source": [
    "The predictions are separated into two segments, start and end segment. A tranformation is learned from both the segments to the ground truth and an alignment metric is caculated as follows\n",
    "\n",
    "Let $p_i$ be the trackes positions and $\\hat{p_i}$ be the ground truth\n",
    "\n",
    "$$\\begin{align}\n",
    "    T_s^{gt} &= \\min_{T \\in Sim(3)} \\sum_{i \\in S} (T p_i - \\hat p_i)^2\\\\\n",
    "    T_e^{gt} &= \\min_{T \\in Sim(3)} \\sum_{i \\in E} (T p_i - \\hat p_i)^2\\\\\n",
    "    \\\\\n",
    "    error_{align} &= \\sqrt{\\frac{1}{n} \\sum_i^{n} \\|T_s^{gt}p_i-T_e^{gt}p_i\\|_2^2}\n",
    "\\end{align}$$\n",
    "\n",
    "More about $Sim(3)$ matrices [here](https://www.ethaneade.org/latex2html/lie/node28.html)\n",
    "\n"
   ]
  },
  {
   "cell_type": "code",
   "execution_count": null,
   "id": "4429f2ad-8334-4df0-8653-f25ba3610783",
   "metadata": {},
   "outputs": [],
   "source": [
    "k = data.shape[0]//2\n",
    "ind = np.where(~np.isnan(data).any(axis=1))[0]\n",
    "segS = ind[ind<=k]\n",
    "segL = ind[ind>k]\n",
    "\n",
    "cs, Rs, ts = TUM_EVAL(path[segS], data[segS])\n",
    "ce, Re, te = TUM_EVAL(path[segL], data[segL])"
   ]
  },
  {
   "cell_type": "code",
   "execution_count": null,
   "id": "d09197ee-38a5-4cda-9515-a5fda0fbc9f5",
   "metadata": {},
   "outputs": [],
   "source": [
    "predS = cs*path@Rs.T + ts.T\n",
    "predE = ce*path@Re.T + te.T"
   ]
  },
  {
   "cell_type": "code",
   "execution_count": null,
   "id": "74a58c43-8198-436a-bd5d-7410f91b3747",
   "metadata": {},
   "outputs": [],
   "source": [
    "error = np.linalg.norm(predS-predE)/np.sqrt(data.shape[0])\n",
    "error # Error used to rank the submissions"
   ]
  },
  {
   "cell_type": "code",
   "execution_count": null,
   "id": "7eac2694-406b-41d9-8eae-f9213904c73c",
   "metadata": {},
   "outputs": [],
   "source": []
  }
 ],
 "metadata": {
  "kernelspec": {
   "display_name": "Python 3 (ipykernel)",
   "language": "python",
   "name": "python3"
  },
  "language_info": {
   "codemirror_mode": {
    "name": "ipython",
    "version": 3
   },
   "file_extension": ".py",
   "mimetype": "text/x-python",
   "name": "python",
   "nbconvert_exporter": "python",
   "pygments_lexer": "ipython3",
   "version": "3.10.3"
  }
 },
 "nbformat": 4,
 "nbformat_minor": 5
}
